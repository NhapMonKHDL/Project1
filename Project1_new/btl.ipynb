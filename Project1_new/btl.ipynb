{
 "cells": [
  {
   "cell_type": "code",
   "execution_count": null,
   "id": "6d65b47e",
   "metadata": {},
   "outputs": [],
   "source": [
    "#1. Đọc và lọc dữ liệu"
   ]
  },
  {
   "cell_type": "code",
   "execution_count": 4,
   "id": "cff1a73b",
   "metadata": {},
   "outputs": [
    {
     "name": "stdout",
     "output_type": "stream",
     "text": [
      "Trung bình: 1.7524752475247525\n",
      "Trung vị: 1.5\n",
      "Phương sai: 0.18311881188118814\n",
      "Độ lệch chuẩn: 0.42792383887928953\n"
     ]
    },
    {
     "name": "stderr",
     "output_type": "stream",
     "text": [
      "C:\\Users\\CONG\\AppData\\Local\\Temp\\ipykernel_13648\\2002369003.py:11: SettingWithCopyWarning: \n",
      "A value is trying to be set on a copy of a slice from a DataFrame.\n",
      "Try using .loc[row_indexer,col_indexer] = value instead\n",
      "\n",
      "See the caveats in the documentation: https://pandas.pydata.org/pandas-docs/stable/user_guide/indexing.html#returning-a-view-versus-a-copy\n",
      "  df_small[\"Column5\"] = (\n"
     ]
    }
   ],
   "source": [
    "import pandas as pd\n",
    "import openpyxl\n",
    "from sklearn.preprocessing import StandardScaler\n",
    "\n",
    "file_path = \"Book2.xlsx\"   \n",
    "df = pd.read_excel(file_path,sheet_name='khaosatNUOC')\n",
    "\n",
    "# print(df.loc[0:10])\n",
    "\n",
    "df_small = df[[\"Column4\",\"Column5\"]]\n",
    "df_small[\"Column5\"] = (\n",
    "    df_small[\"Column5\"]\n",
    "    .str.replace(\",\", \".\", regex=False)        # đổi dấu phẩy thành dấu chấm\n",
    "    .str.extract(r\"(\\d+\\.?\\d*)\")               # lấy phần số\n",
    "    .astype(float)                             # ép về float\n",
    ")\n",
    "\n",
    "mean_value   = df_small[\"Column5\"].mean()    # trung bình\n",
    "median_value = df_small[\"Column5\"].median()  # trung vị\n",
    "var_value    = df_small[\"Column5\"].var()     # phương sai \n",
    "std_value    = df_small[\"Column5\"].std()     # độ lệch chuẩn \n",
    "\n",
    "print(\"Trung bình:\", mean_value)\n",
    "print(\"Trung vị:\", median_value)\n",
    "print(\"Phương sai:\", var_value)\n",
    "print(\"Độ lệch chuẩn:\", std_value)\n"
   ]
  },
  {
   "cell_type": "code",
   "execution_count": null,
   "id": "1bcb9868",
   "metadata": {},
   "outputs": [],
   "source": [
    "#2. Chuẩn hoá z-core"
   ]
  },
  {
   "cell_type": "code",
   "execution_count": 5,
   "id": "4852128a",
   "metadata": {},
   "outputs": [
    {
     "name": "stdout",
     "output_type": "stream",
     "text": [
      "     Column5_zscore\n",
      "0         -0.590000\n",
      "1          0.578432\n",
      "2          0.578432\n",
      "3         -0.590000\n",
      "4         -0.590000\n",
      "..              ...\n",
      "96         0.578432\n",
      "97        -0.590000\n",
      "98         0.578432\n",
      "99         0.578432\n",
      "100        1.746864\n",
      "\n",
      "[101 rows x 1 columns]\n"
     ]
    }
   ],
   "source": [
    "import pandas as pd\n",
    "import numpy as np\n",
    "from scipy import stats\n",
    "# 1.Hàm tính z-score cho một cột\n",
    "df = pd.read_excel(file_path,sheet_name=\"khaosatNUOC\")\n",
    "def zscore_column(series, ddof=1):\n",
    "    mu = series.mean()\n",
    "    sd = series.std(ddof=ddof)\n",
    "    if sd == 0 or np.isnan(sd):\n",
    "        return pd.Series(np.zeros(len(series)), index=series.index)\n",
    "    return (series - mu) / sd\n",
    "\n",
    "# Tính Z-score cho cột số lượng nước uống (Column5)\n",
    "z_df = pd.DataFrame({'Column5_zscore': zscore_column(df_small['Column5'].dropna(), ddof=1)})\n",
    "\n",
    "# In toàn bộ Z-score\n",
    "print(z_df)"
   ]
  },
  {
   "cell_type": "code",
   "execution_count": null,
   "id": "1d0ec8ac",
   "metadata": {},
   "outputs": [],
   "source": [
    "# 3. Ước lượng khoảng tin cậy "
   ]
  },
  {
   "cell_type": "code",
   "execution_count": 6,
   "id": "bea1e474",
   "metadata": {},
   "outputs": [
    {
     "name": "stdout",
     "output_type": "stream",
     "text": [
      "Số lượng mẫu (n): 100\n",
      "Giá trị trung bình mẫu: 1.7550 lít\n",
      "Độ lệch chuẩn mẫu hiệu chỉnh (s): 0.4293 lít\n",
      "Giá trị Z_critical: 1.9600\n",
      "Khoảng tin cậy 95% cho trung bình dân số: (1.6709, 1.8391) lít\n"
     ]
    }
   ],
   "source": [
    "import pandas as pd\n",
    "import numpy as np\n",
    "from scipy import stats\n",
    "from sklearn.preprocessing import StandardScaler\n",
    "\n",
    "lst = list(df_small[\"Column5\"])[1:]\n",
    "\n",
    "n = len(lst)\n",
    "trung_binh_mau = np.mean(lst)\n",
    "phuong_sai_mau = np.var(lst, ddof=1)\n",
    "do_lech_chuan_mau = np.sqrt(phuong_sai_mau)\n",
    "sai_so_chuan = do_lech_chuan_mau / np.sqrt(n)\n",
    "\n",
    "muc_tin_cay = 0.95\n",
    "alpha = 1 - muc_tin_cay\n",
    "z_toi_han = stats.norm.ppf(1 - alpha/2)\n",
    "can_duoi = trung_binh_mau - z_toi_han * sai_so_chuan\n",
    "can_tren = trung_binh_mau + z_toi_han * sai_so_chuan\n",
    "\n",
    "print(f\"Số lượng mẫu (n): {n}\")\n",
    "print(f\"Giá trị trung bình mẫu: {trung_binh_mau:.4f} lít\")\n",
    "print(f\"Độ lệch chuẩn mẫu hiệu chỉnh (s): {do_lech_chuan_mau:.4f} lít\")\n",
    "print(f\"Giá trị Z_critical: {z_toi_han:.4f}\")\n",
    "print(f\"Khoảng tin cậy 95% cho trung bình dân số: ({can_duoi:.4f}, {can_tren:.4f}) lít\")\n"
   ]
  },
  {
   "cell_type": "code",
   "execution_count": 7,
   "id": "8a007fb0",
   "metadata": {},
   "outputs": [],
   "source": [
    "# 4. Kiểm định giả thuyết với mức ý nghĩa 5%"
   ]
  },
  {
   "cell_type": "code",
   "execution_count": null,
   "id": "f6456e86",
   "metadata": {},
   "outputs": [
    {
     "name": "stdout",
     "output_type": "stream",
     "text": [
      "Giá trị trung bình mẫu (x_bar): 1.7550\n",
      "Độ lệch chuẩn mẫu hiệu chỉnh (s): 0.4293\n",
      "Giá trị Z quan sát (z_qs): -1.0482\n",
      "Giá trị Z tới hạn (z_critical): 1.9600\n",
      "Chúng ta chưa có đủ bằng chứng để bác bỏ giả thuyết H0. Lượng nước uống trung bình của mẫu không khác biệt đáng kể so với 1.8 lít.\n"
     ]
    }
   ],
   "source": [
    "import numpy as np\n",
    "from scipy import stats\n",
    "\n",
    "H_0 = 1.8\n",
    "alpha = 0.05\n",
    "lst = list(df_small[\"Column5\"])[1:] # type: ignore\n",
    "n = len(lst)\n",
    "trung_binh_mau = np.mean(lst)\n",
    "phuong_sai_mau = np.var(lst, ddof=1)\n",
    "do_lech_chuan_mau = np.sqrt(phuong_sai_mau)\n",
    "sai_so_chuan = do_lech_chuan_mau / np.sqrt(n)\n",
    "z_qs = (trung_binh_mau - H_0) / (do_lech_chuan_mau / np.sqrt(n))\n",
    "\n",
    "print(f\"Giá trị trung bình mẫu (x_bar): {trung_binh_mau:.4f}\")\n",
    "print(f\"Độ lệch chuẩn mẫu hiệu chỉnh (s): {do_lech_chuan_mau:.4f}\")\n",
    "print(f\"Giá trị Z quan sát (z_qs): {z_qs:.4f}\")\n",
    "\n",
    "# Tìm giá trị Z tới hạn (z_critical)\n",
    "z_critical = stats.norm.ppf(1 - alpha/2)\n",
    "print(f\"Giá trị Z tới hạn (z_critical): {z_critical:.4f}\")\n",
    "# Kiểm tra điều kiện bác bỏ H0\n",
    "if abs(z_qs) > z_critical:\n",
    "    print(\"Chúng ta bác bỏ giả thuyết H0. Có bằng chứng cho thấy lượng nước trung bình khác biệt đáng kể so với 1.8 lít.\")\n",
    "else:\n",
    "    print(\"Chúng ta chưa có đủ bằng chứng để bác bỏ giả thuyết H0. Lượng nước uống trung bình của mẫu không khác biệt đáng kể so với 1.8 lít.\")"
   ]
  }
 ],
 "metadata": {
  "kernelspec": {
   "display_name": "Python 3",
   "language": "python",
   "name": "python3"
  },
  "language_info": {
   "codemirror_mode": {
    "name": "ipython",
    "version": 3
   },
   "file_extension": ".py",
   "mimetype": "text/x-python",
   "name": "python",
   "nbconvert_exporter": "python",
   "pygments_lexer": "ipython3",
   "version": "3.13.5"
  }
 },
 "nbformat": 4,
 "nbformat_minor": 5
}
