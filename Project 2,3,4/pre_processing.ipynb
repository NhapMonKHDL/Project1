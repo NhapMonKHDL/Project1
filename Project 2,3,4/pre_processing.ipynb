{
 "cells": [
  {
   "cell_type": "code",
   "execution_count": 53,
   "id": "7e3152e4",
   "metadata": {},
   "outputs": [],
   "source": [
    "import pandas as pd\n",
    "import re\n",
    "import datetime"
   ]
  },
  {
   "cell_type": "code",
   "execution_count": null,
   "id": "ea0b6dce",
   "metadata": {},
   "outputs": [],
   "source": [
    "df = pd.read_csv('..\\\\Project 2,3,4\\\\info_cars 1520_1999.csv',usecols=list(range(9))+[18])\n",
    "df.head(10)"
   ]
  },
  {
   "cell_type": "code",
   "execution_count": 67,
   "id": "2af8f3e4",
   "metadata": {},
   "outputs": [],
   "source": [
    "def split_name_and_price(s):\n",
    "    if pd.isna(s):\n",
    "        return pd.Series([None, None])\n",
    "    s_str = str(s)\n",
    "    if '-' in s_str:\n",
    "        parts = s_str.rsplit('-', 1)\n",
    "        if len(parts) == 2:\n",
    "            return pd.Series([parts[0].strip(), parts[1].strip()])\n",
    "    return pd.Series([s_str.strip(), None])\n",
    "\n",
    "def normalize_price(price_str):\n",
    "    \"\"\"Chuyển đổi giá về đơn vị triệu VNĐ\"\"\"\n",
    "    if pd.isna(price_str):\n",
    "        return None\n",
    "    price_str = str(price_str).strip()\n",
    "    # Tìm tất cả các số trong chuỗi\n",
    "    numbers = re.findall(r'\\d+', price_str)\n",
    "    if not numbers:\n",
    "        return None\n",
    "    \n",
    "    # Chuyển đổi dựa trên đơn vị\n",
    "    if 'Tỷ' in price_str or 'tỷ' in price_str:\n",
    "        ty = int(numbers[0]) * 1000  # 1 tỷ = 1000 triệu\n",
    "        trieu = int(numbers[1]) if len(numbers) > 1 else 0\n",
    "        return ty + trieu\n",
    "    elif 'Triệu' in price_str or 'triệu' in price_str:\n",
    "        return int(numbers[0])\n",
    "    else:\n",
    "        return int(numbers[0])\n",
    "    \n",
    "def extract_daytime(s):\n",
    "    if pd.isna(s):\n",
    "        return None\n",
    "    match = re.search(r'(\\d{1,2})/(\\d{1,2})/(\\d{4})', s)\n",
    "    if match:\n",
    "        day, month, year = map(int, match.groups())\n",
    "        date_obj = datetime.datetime(year,month,day)\n",
    "        return str(date_obj.strftime(f\"%d/%m/%Y\"))\n",
    "    return None\n",
    "\n",
    "def parse_km(s):\n",
    "    if pd.isna(s):\n",
    "        return None\n",
    "    if not isinstance(s, str):\n",
    "        return None\n",
    "    # Xóa mọi ký tự không phải số\n",
    "    digits = re.sub(r'[^\\d]', '', s)\n",
    "    return int(digits) if digits else None"
   ]
  },
  {
   "cell_type": "code",
   "execution_count": 71,
   "id": "74d7af47",
   "metadata": {},
   "outputs": [],
   "source": [
    "df = pd.read_csv('..\\\\Project 2,3,4\\\\info_cars 1520_1999.csv',usecols=list(range(9))+[18])\n",
    "dataframe = df\n",
    "\n",
    "# DEBUG: Xem dữ liệu cột đầu tiên\n",
    "# print(\"=== 5 dòng đầu của cột 0 ===\")\n",
    "# print(dataframe.iloc[:5, 0])\n",
    "# print(\"\\n\")\n",
    "\n",
    "# Áp dụng hàm lên CỘT ĐẦU TIÊN (index 0)\n",
    "dataframe[['name','price']] = dataframe.iloc[:, 0].apply(split_name_and_price)\n",
    "\n",
    "# Áp dụng cho cột price\n",
    "dataframe['price'] = dataframe['price'].apply(normalize_price)\n",
    "\n",
    "# Lấy ngày ra khỏi cột sell_time\n",
    "dataframe['sell_time'] = dataframe['sell_time'].apply(extract_daytime)\n",
    "\n",
    "# Áp dụng lấy số km đã đi\n",
    "dataframe['traveled_kilometer'] = dataframe['traveled_kilometer'].apply(parse_km)\n",
    "\n",
    "# print(dataframe[['name','sell_time','price','traveled_kilometer']].head(50))\n",
    "dataframe.to_csv('ouput.csv',index=False)"
   ]
  }
 ],
 "metadata": {
  "kernelspec": {
   "display_name": "Python 3",
   "language": "python",
   "name": "python3"
  },
  "language_info": {
   "codemirror_mode": {
    "name": "ipython",
    "version": 3
   },
   "file_extension": ".py",
   "mimetype": "text/x-python",
   "name": "python",
   "nbconvert_exporter": "python",
   "pygments_lexer": "ipython3",
   "version": "3.13.5"
  }
 },
 "nbformat": 4,
 "nbformat_minor": 5
}
