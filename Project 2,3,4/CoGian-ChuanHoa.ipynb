{
 "cells": [
  {
   "cell_type": "code",
   "execution_count": 2,
   "id": "eaa26863",
   "metadata": {},
   "outputs": [
    {
     "name": "stdout",
     "output_type": "stream",
     "text": [
      "Requirement already satisfied: scikit-learn in c:\\users\\nghia\\appdata\\local\\programs\\python\\python313\\lib\\site-packages (1.7.2)\n",
      "Requirement already satisfied: numpy>=1.22.0 in c:\\users\\nghia\\appdata\\local\\programs\\python\\python313\\lib\\site-packages (from scikit-learn) (2.3.2)\n",
      "Requirement already satisfied: scipy>=1.8.0 in c:\\users\\nghia\\appdata\\local\\programs\\python\\python313\\lib\\site-packages (from scikit-learn) (1.16.1)\n",
      "Requirement already satisfied: joblib>=1.2.0 in c:\\users\\nghia\\appdata\\local\\programs\\python\\python313\\lib\\site-packages (from scikit-learn) (1.5.2)\n",
      "Requirement already satisfied: threadpoolctl>=3.1.0 in c:\\users\\nghia\\appdata\\local\\programs\\python\\python313\\lib\\site-packages (from scikit-learn) (3.6.0)\n"
     ]
    },
    {
     "name": "stderr",
     "output_type": "stream",
     "text": [
      "\n",
      "[notice] A new release of pip is available: 25.1.1 -> 25.2\n",
      "[notice] To update, run: python.exe -m pip install --upgrade pip\n"
     ]
    }
   ],
   "source": [
    "!pip install scikit-learn\n",
    "import pandas as pd\n",
    "from sklearn.preprocessing import StandardScaler, MinMaxScaler"
   ]
  },
  {
   "cell_type": "code",
   "execution_count": 3,
   "id": "0896c870",
   "metadata": {},
   "outputs": [
    {
     "name": "stdout",
     "output_type": "stream",
     "text": [
      "Dữ liệu gốc:\n",
      "                                                name   sell_time  \\\n",
      "0  Xe Hyundai Tucson 1.6 AT Turbo HTRAC Đặc biệt ...  04/10/2025   \n",
      "1                               Xe Lexus RX 350 2021  05/10/2025   \n",
      "2                   Xe BMW X4 xDrive20i M Sport 2020  04/10/2025   \n",
      "3                          Xe Porsche Macan 2.0 2021  06/10/2025   \n",
      "4             Xe Hyundai Tucson 2.0 AT Đặc biệt 2025  05/10/2025   \n",
      "\n",
      "   produce_year current_status  traveled_kilometer              origin  \\\n",
      "0          2023     Xe đã dùng             21000.0  Lắp ráp trong nước   \n",
      "1          2021     Xe đã dùng             10000.0           Nhập khẩu   \n",
      "2          2020     Xe đã dùng                 0.0           Nhập khẩu   \n",
      "3          2021     Xe đã dùng             45000.0           Nhập khẩu   \n",
      "4          2025         Xe mới                 NaN  Lắp ráp trong nước   \n",
      "\n",
      "       shape    gear_box      engine out_color in_color seat_number  \\\n",
      "0  Crossover  Số tự động  Xăng 1.6 L        Đỏ      Nâu       5 chỗ   \n",
      "1        SUV  Số tự động  Xăng 3.5 L      Vàng      Nâu       5 chỗ   \n",
      "2        SUV  Số tự động  Xăng 2.0 L     Trắng      Nâu       5 chỗ   \n",
      "3        SUV  Số tự động  Xăng 2.0 L       Đen      Kem       5 chỗ   \n",
      "4  Crossover  Số tự động  Xăng 2.0 L        Đỏ      Đen       5 chỗ   \n",
      "\n",
      "  door_number                 dynamic_axes  \\\n",
      "0       5 cửa  AWD - 4 bánh toàn thời gian   \n",
      "1       5 cửa  AWD - 4 bánh toàn thời gian   \n",
      "2       5 cửa  AWD - 4 bánh toàn thời gian   \n",
      "3       5 cửa  AWD - 4 bánh toàn thời gian   \n",
      "4       5 cửa     FWD - Dẫn động cầu trước   \n",
      "\n",
      "                                       describe_info       owner_name  \\\n",
      "0  HYUNDAI TUCSON 1.6 TURBO 2023 – BẢN CAO CẤP - ...   Auto Phong Bổn   \n",
      "1  RX350 2021 be/nâu\\nOddo: 1v km\\nKhoang lái của...  Thăng Long Cars   \n",
      "2  BÁN BMW X4 sản xuất 2020, màu trắng nội thất n...         T96 Auto   \n",
      "3  Porsche Macan Model 2022\\nForm mới – đen huyền...    Long Anh Auto   \n",
      "4  Hyundai Tucson đặc biệt all new 2025\\n\\nHyunda...  Hyundai Hà Đông   \n",
      "\n",
      "  phone_number_1 phone_number_2  \\\n",
      "0   0942 007 739   0908 586 386   \n",
      "1   0904 879 999            NaN   \n",
      "2   0888 367 899   0941 562 222   \n",
      "3   0923 091 929            NaN   \n",
      "4   0963 523 999   0932 363 628   \n",
      "\n",
      "                                       owner_address  price  \n",
      "0  Địa chỉ: 14/1 Đại lộ Bình Dương, khu phố Bình ...    890  \n",
      "1  Địa chỉ: 70 Trương Công Giai, Phường Dịch Vọng...   3680  \n",
      "2  Địa chỉ: 17 HDi Mạc Thái Tông , Trung Hoà , Cầ...   1780  \n",
      "3  Địa chỉ: 66 - 68 Đường số 7, P. Tân Kiểng, Quậ...   3090  \n",
      "4  Địa chỉ: Do Lộ, Phường Yên Nghĩa, Quận Hà Đông...    819   \n",
      "\n"
     ]
    }
   ],
   "source": [
    "# Đọc dữ liệu\n",
    "file_path = r\"D:\\nghia\\Hoc\\kho du lieu\\ouput.csv\"\n",
    "df = pd.read_csv(file_path)\n",
    "\n",
    "print(\"Dữ liệu gốc:\")\n",
    "print(df.head(), \"\\n\")\n"
   ]
  },
  {
   "cell_type": "code",
   "execution_count": 4,
   "id": "24e5af22",
   "metadata": {},
   "outputs": [
    {
     "name": "stdout",
     "output_type": "stream",
     "text": [
      "Các cột được chuẩn hóa: ['produce_year', 'traveled_kilometer', 'price']\n"
     ]
    }
   ],
   "source": [
    "# Chọn các cột số để chuẩn hóa\n",
    "numeric_cols = df.select_dtypes(include=['int64', 'float64']).columns\n",
    "print(\"Các cột được chuẩn hóa:\", numeric_cols.tolist())\n"
   ]
  },
  {
   "cell_type": "code",
   "execution_count": 5,
   "id": "c002470f",
   "metadata": {},
   "outputs": [],
   "source": [
    "# 1. Co giãn dữ liệu (Min-Max normalization: đưa về [0, 1])\n",
    "scaler_minmax = MinMaxScaler()\n",
    "df_minmax = df.copy()\n",
    "df_minmax[numeric_cols] = scaler_minmax.fit_transform(df[numeric_cols])\n"
   ]
  },
  {
   "cell_type": "code",
   "execution_count": 6,
   "id": "5b5e4880",
   "metadata": {},
   "outputs": [],
   "source": [
    "# 2. Chuẩn hóa dữ liệu (Standardization: trung bình = 0, độ lệch chuẩn = 1)\n",
    "scaler_std = StandardScaler()\n",
    "df_std = df.copy()\n",
    "df_std[numeric_cols] = scaler_std.fit_transform(df[numeric_cols])\n"
   ]
  },
  {
   "cell_type": "code",
   "execution_count": 7,
   "id": "1aa6a25e",
   "metadata": {},
   "outputs": [
    {
     "name": "stdout",
     "output_type": "stream",
     "text": [
      "✅ Đã lưu:\n",
      " - output_normalized.csv (co giãn về [0,1])\n",
      " - output_standardized.csv (chuẩn hóa Z-score)\n"
     ]
    }
   ],
   "source": [
    "# Xuất ra file\n",
    "df_minmax.to_csv(\"output_normalized.csv\", index=False)\n",
    "df_std.to_csv(\"output_standardized.csv\", index=False)\n",
    "\n",
    "print(\"✅ Đã lưu:\")\n",
    "print(\" - output_normalized.csv (co giãn về [0,1])\")\n",
    "print(\" - output_standardized.csv (chuẩn hóa Z-score)\")"
   ]
  }
 ],
 "metadata": {
  "kernelspec": {
   "display_name": "Python 3",
   "language": "python",
   "name": "python3"
  },
  "language_info": {
   "codemirror_mode": {
    "name": "ipython",
    "version": 3
   },
   "file_extension": ".py",
   "mimetype": "text/x-python",
   "name": "python",
   "nbconvert_exporter": "python",
   "pygments_lexer": "ipython3",
   "version": "3.13.5"
  }
 },
 "nbformat": 4,
 "nbformat_minor": 5
}
