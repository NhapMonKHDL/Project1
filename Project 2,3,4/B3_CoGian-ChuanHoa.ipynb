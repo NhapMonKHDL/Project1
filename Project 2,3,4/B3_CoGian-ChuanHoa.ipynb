{
 "cells": [
  {
   "cell_type": "code",
   "execution_count": 1,
   "id": "eaa26863",
   "metadata": {},
   "outputs": [],
   "source": [
    "# !pip install scikit-learn\n",
    "import pandas as pd\n",
    "from sklearn.preprocessing import StandardScaler, MinMaxScaler"
   ]
  },
  {
   "cell_type": "code",
   "execution_count": 6,
   "id": "0896c870",
   "metadata": {},
   "outputs": [
    {
     "name": "stdout",
     "output_type": "stream",
     "text": [
      "Dữ liệu gốc:\n",
      "                                                name   sell_time  \\\n",
      "0  Xe Hyundai Tucson 1.6 AT Turbo HTRAC Đặc biệt ...  04/10/2025   \n",
      "1                               Xe Lexus RX 350 2021  05/10/2025   \n",
      "2                   Xe BMW X4 xDrive20i M Sport 2020  04/10/2025   \n",
      "3                          Xe Porsche Macan 2.0 2021  06/10/2025   \n",
      "4             Xe Hyundai Tucson 2.0 AT Đặc biệt 2025  05/10/2025   \n",
      "5                               Xe Lexus RX 300 2021  06/10/2025   \n",
      "6            Xe Hyundai SantaFe Tiêu chuẩn 2.5L 2022  05/10/2025   \n",
      "7                               Xe Lexus RX 300 2021  05/10/2025   \n",
      "8                         Xe Suzuki Ciaz 1.4 AT 2019  06/10/2025   \n",
      "9                 Xe Mitsubishi Xforce Ultimate 2025  06/10/2025   \n",
      "\n",
      "   produce_year current_status  traveled_kilometer              origin  \\\n",
      "0          2023     Xe đã dùng               21000  Lắp ráp trong nước   \n",
      "1          2021     Xe đã dùng               10000           Nhập khẩu   \n",
      "2          2020     Xe đã dùng                   0           Nhập khẩu   \n",
      "3          2021     Xe đã dùng               45000           Nhập khẩu   \n",
      "4          2025         Xe mới                   0  Lắp ráp trong nước   \n",
      "5          2021     Xe đã dùng               40000           Nhập khẩu   \n",
      "6          2022     Xe đã dùng               59000  Lắp ráp trong nước   \n",
      "7          2021     Xe đã dùng               35000           Nhập khẩu   \n",
      "8          2019     Xe đã dùng               72000           Nhập khẩu   \n",
      "9          2025         Xe mới                   0           Nhập khẩu   \n",
      "\n",
      "       shape    gear_box      engine  \\\n",
      "0  Crossover  Số tự động  Xăng 1.6 L   \n",
      "1        SUV  Số tự động  Xăng 3.5 L   \n",
      "2        SUV  Số tự động  Xăng 2.0 L   \n",
      "3        SUV  Số tự động  Xăng 2.0 L   \n",
      "4  Crossover  Số tự động  Xăng 2.0 L   \n",
      "5        SUV  Số tự động  Xăng 2.0 L   \n",
      "6        SUV  Số tự động  Xăng 2.5 L   \n",
      "7        SUV  Số tự động  Xăng 2.0 L   \n",
      "8      Sedan  Số tự động  Xăng 1.4 L   \n",
      "9        SUV  Số tự động  Xăng 1.5 L   \n",
      "\n",
      "                                       owner_address  price  \n",
      "0  Địa chỉ: 14/1 Đại lộ Bình Dương, khu phố Bình ...    890  \n",
      "1  Địa chỉ: 70 Trương Công Giai, Phường Dịch Vọng...   3680  \n",
      "2  Địa chỉ: 17 HDi Mạc Thái Tông , Trung Hoà , Cầ...   1780  \n",
      "3  Địa chỉ: 66 - 68 Đường số 7, P. Tân Kiểng, Quậ...   3090  \n",
      "4  Địa chỉ: Do Lộ, Phường Yên Nghĩa, Quận Hà Đông...    819  \n",
      "5  Địa chỉ: Toà CT2 Chung cư văn phòng Quốc Hội, ...   2779  \n",
      "6  Địa chỉ: 26 Đường Cầu Diễn, Phú Diễn, Bắc Từ L...    888  \n",
      "7  Địa chỉ: 70 Trương Công Giai, Phường Dịch Vọng...   2880  \n",
      "8  Địa chỉ: 202/2 Đt 743, P. An Phú, Tp Thuận An ...    345  \n",
      "9   Địa chỉ: Số 1 Nguyễn Văn Linh , Long Biên Hà Nội    610   \n",
      "\n"
     ]
    }
   ],
   "source": [
    "# Đọc dữ liệu\n",
    "file_path = r\"..\\\\Project 2,3,4\\\\data_bonbanh\\\\processed\\\\processed_raw_cars.csv\"\n",
    "df = pd.read_csv(file_path)\n",
    "\n",
    "print(\"Dữ liệu gốc:\")\n",
    "print(df.head(10), \"\\n\")"
   ]
  },
  {
   "cell_type": "code",
   "execution_count": 7,
   "id": "24e5af22",
   "metadata": {},
   "outputs": [
    {
     "name": "stdout",
     "output_type": "stream",
     "text": [
      "Các cột được chuẩn hóa: ['produce_year', 'traveled_kilometer', 'price']\n"
     ]
    }
   ],
   "source": [
    "# Chọn các cột số để chuẩn hóa\n",
    "numeric_cols = df.select_dtypes(include=['int64', 'float64']).columns\n",
    "print(\"Các cột được chuẩn hóa:\", numeric_cols.tolist())"
   ]
  },
  {
   "cell_type": "code",
   "execution_count": 8,
   "id": "c002470f",
   "metadata": {},
   "outputs": [],
   "source": [
    "# 1. Co giãn dữ liệu (Min-Max normalization: đưa về [0, 1])\n",
    "scaler_minmax = MinMaxScaler()\n",
    "df_minmax = df.copy()\n",
    "df_minmax[numeric_cols] = scaler_minmax.fit_transform(df[numeric_cols])\n"
   ]
  },
  {
   "cell_type": "code",
   "execution_count": 9,
   "id": "5b5e4880",
   "metadata": {},
   "outputs": [],
   "source": [
    "# 2. Chuẩn hóa dữ liệu (Standardization: trung bình = 0, độ lệch chuẩn = 1)\n",
    "scaler_std = StandardScaler()\n",
    "df_std = df.copy()\n",
    "df_std[numeric_cols] = scaler_std.fit_transform(df[numeric_cols])\n"
   ]
  },
  {
   "cell_type": "code",
   "execution_count": 10,
   "id": "1aa6a25e",
   "metadata": {},
   "outputs": [
    {
     "name": "stdout",
     "output_type": "stream",
     "text": [
      "✅ Đã lưu:\n",
      " - output_normalized.csv (co giãn về [0,1])\n",
      " - output_standardized.csv (chuẩn hóa Z-score)\n"
     ]
    }
   ],
   "source": [
    "# Xuất ra file\n",
    "df_minmax.to_csv(\"output_normalized.csv\", index=False)\n",
    "df_std.to_csv(\"output_standardized.csv\", index=False)\n",
    "\n",
    "print(\"✅ Đã lưu:\")\n",
    "print(\" - output_normalized.csv (co giãn về [0,1])\")\n",
    "print(\" - output_standardized.csv (chuẩn hóa Z-score)\")"
   ]
  }
 ],
 "metadata": {
  "kernelspec": {
   "display_name": "Python 3",
   "language": "python",
   "name": "python3"
  },
  "language_info": {
   "codemirror_mode": {
    "name": "ipython",
    "version": 3
   },
   "file_extension": ".py",
   "mimetype": "text/x-python",
   "name": "python",
   "nbconvert_exporter": "python",
   "pygments_lexer": "ipython3",
   "version": "3.13.5"
  }
 },
 "nbformat": 4,
 "nbformat_minor": 5
}
