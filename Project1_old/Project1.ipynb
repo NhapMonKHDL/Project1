{
 "cells": [
  {
   "cell_type": "code",
   "execution_count": null,
   "id": "3301cdb2",
   "metadata": {},
   "outputs": [],
   "source": [
    "import pandas as pd\n",
    "\n",
    "file_path = \"demo.csv\"\n",
    "df = pd.read_csv(file_path, encoding=\"cp1258\")\n",
    "df_small = df[[\"diem\", \"ttnv\"]].copy()\n",
    "\n",
    "\n",
    "df_small[\"diem\"] = df_small[\"diem\"].astype(str).str.replace(\",\", \".\")\n",
    "df_small[\"diem\"] = df_small[\"diem\"].astype(float)\n",
    "\n",
    "def convert_pref(x):\n",
    "    if pd.isna(x):\n",
    "        return None\n",
    "    x = str(x).strip()\n",
    "    if x.endswith(('1','2','3','4','5','6','7','8','9')):\n",
    "        num = ''.join([c for c in x if c.isdigit()])\n",
    "        # return int(num) if num.isdigit() else None\n",
    "        return num\n",
    "    return None\n",
    "df_small[\"ttnv\"] = df_small[\"ttnv\"].apply(convert_pref)\n",
    "\n",
    "output_file = \"demo_score_seq.csv\"\n",
    "df_small.to_csv(output_file, index=False, encoding=\"utf-8-sig\")\n",
    "\n",
    "print(\"✅ Đã xử lý xong, lưu file:\", output_file)\n",
    "print(df_small)\n"
   ]
  },
  {
   "cell_type": "code",
   "execution_count": 12,
   "id": "0b4bf255",
   "metadata": {},
   "outputs": [
    {
     "name": "stdout",
     "output_type": "stream",
     "text": [
      "Read file with encoding: utf-8-sig\n"
     ]
    }
   ],
   "source": [
    "# Câu 4: Kiểm định giả thuyết tỷ lệ p = 0.8 (mức ý nghĩa 5%)\n",
    "import pandas as pd\n",
    "\n",
    "file_path = \"demo_score_seq.csv\"\n",
    "encodings = [\"utf-8-sig\", \"cp1258\", \"latin1\", \"utf-8\"]\n",
    "df = None\n",
    "for enc in encodings:\n",
    "    try:\n",
    "        df = pd.read_csv(file_path, encoding=enc)\n",
    "        print(f\"Read file with encoding: {enc}\")\n",
    "        break\n",
    "    except Exception as e:\n",
    "        continue\n",
    "if df is None:\n",
    "    raise RuntimeError(\"Không đọc được file demo_score_seq.csv. Kiểm tra đường dẫn / encoding.\")\n",
    "if \"diem\" not in df.columns:\n",
    "    raise RuntimeError(\"Không tìm thấy cột 'diem' trong file.\")\n",
    "if \"ttnv\" not in df.columns:\n",
    "    print(\"Chú ý: không tìm thấy cột 'ttnv' - sẽ tiếp tục nhưng chỉ dùng 'diem' để tính tỷ lệ >=27\")"
   ]
  },
  {
   "cell_type": "code",
   "execution_count": 13,
   "id": "cc526d16",
   "metadata": {},
   "outputs": [
    {
     "name": "stdout",
     "output_type": "stream",
     "text": [
      "Tổng số sinh viên có điểm >= 27 là: 16\n",
      "Số sinh viên đỗ NV1 trong số đó là : 12\n",
      "Tỷ lệ mẫu quan sát được: 75.00%\n"
     ]
    }
   ],
   "source": [
    "df_tren27 = df[df[\"diem\"] >= 27] # type: ignore\n",
    "n = len(df_tren27)\n",
    "so_luong_do = (df_tren27['ttnv'] == 1).sum()\n",
    "\n",
    "ty_le_mau = so_luong_do / n if n> 0 else 0\n",
    "\n",
    "print(f\"Tổng số sinh viên có điểm >= 27 là: {n}\")\n",
    "print(f\"Số sinh viên đỗ NV1 trong số đó là : {so_luong_do}\")\n",
    "print(f\"Tỷ lệ mẫu quan sát được: {ty_le_mau:.2%}\")"
   ]
  },
  {
   "cell_type": "code",
   "execution_count": 14,
   "id": "0a4a7088",
   "metadata": {},
   "outputs": [
    {
     "name": "stdout",
     "output_type": "stream",
     "text": [
      "\n",
      "--- Ước lượng Khoảng tin cậy ---\n",
      "Giá trị Z-tới hạn: 1.9600\n",
      "Khoảng tin cậy 95%: [0.5378, 0.9622]\n",
      "\n",
      "--- Kiểm định Giả thuyết ---\n",
      "Tỷ lệ giả thuyết (0.8) NẰM TRONG khoảng tin cậy.\n",
      "Kết luận: CHƯA CÓ ĐỦ BẰNG CHỨNG để bác bỏ giả thuyết ban đầu ở mức ý nghĩa 5%.\n"
     ]
    }
   ],
   "source": [
    "import pandas as pd\n",
    "import numpy as np\n",
    "from scipy.stats import norm\n",
    "\n",
    "alpha = 0.05\n",
    "\n",
    "# --- Bước 3: Ước lượng Kỳ vọng bằng Khoảng tin cậy ---\n",
    "# Công thức tính Khoảng tin cậy (CI) cho tỷ lệ:\n",
    "# CI = p_hat ± Z_(alpha/2) * sqrt(p_hat * (1 - p_hat) / n)\n",
    "# Với alpha = 0.05, Z_(alpha/2) là giá trị Z cho phân vị 0.975 (norm.ppf(0.975)), xấp xỉ 1.96\n",
    "\n",
    "z_critical = norm.ppf(1 - alpha / 2)\n",
    "\n",
    "sai_so_chuan = np.sqrt(ty_le_mau * (1 - ty_le_mau) / n)\n",
    "sai_so_duong_cong = z_critical * sai_so_chuan\n",
    "\n",
    "khoang_tin_cay_lower = ty_le_mau - sai_so_duong_cong\n",
    "khoang_tin_cay_upper = ty_le_mau + sai_so_duong_cong\n",
    "\n",
    "print(\"\\n--- Ước lượng Khoảng tin cậy ---\")\n",
    "print(f\"Giá trị Z-tới hạn: {z_critical:.4f}\")\n",
    "print(f\"Khoảng tin cậy {int((1-alpha)*100)}%: [{khoang_tin_cay_lower:.4f}, {khoang_tin_cay_upper:.4f}]\")\n",
    "\n",
    "# --- Bước 4: Kiểm định Giả thuyết với Mức ý nghĩa 5% ---\n",
    "p_gia_thuyet = 0.80\n",
    "\n",
    "print(\"\\n--- Kiểm định Giả thuyết ---\")\n",
    "if khoang_tin_cay_lower <= p_gia_thuyet <= khoang_tin_cay_upper:\n",
    "    print(f\"Tỷ lệ giả thuyết ({p_gia_thuyet}) NẰM TRONG khoảng tin cậy.\")\n",
    "    print(\"Kết luận: CHƯA CÓ ĐỦ BẰNG CHỨNG để bác bỏ giả thuyết ban đầu ở mức ý nghĩa 5%.\")\n",
    "else:\n",
    "    print(f\"Tỷ lệ giả thuyết ({p_gia_thuyet}) NẰM NGOÀI khoảng tin cậy.\")\n",
    "    print(\"Kết luận: CÓ ĐỦ BẰNG CHỨNG để bác bỏ giả thuyết ban đầu ở mức ý nghĩa 5%.\")\n"
   ]
  }
 ],
 "metadata": {
  "kernelspec": {
   "display_name": "Python 3",
   "language": "python",
   "name": "python3"
  },
  "language_info": {
   "codemirror_mode": {
    "name": "ipython",
    "version": 3
   },
   "file_extension": ".py",
   "mimetype": "text/x-python",
   "name": "python",
   "nbconvert_exporter": "python",
   "pygments_lexer": "ipython3",
   "version": "3.13.5"
  }
 },
 "nbformat": 4,
 "nbformat_minor": 5
}
