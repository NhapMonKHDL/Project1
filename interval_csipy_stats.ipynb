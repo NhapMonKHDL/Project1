{
 "cells": [
  {
   "cell_type": "code",
   "execution_count": 5,
   "id": "2b3e3c82",
   "metadata": {},
   "outputs": [],
   "source": [
    "from scipy import stats\n",
    "import numpy as np\n",
    "import math"
   ]
  },
  {
   "cell_type": "code",
   "execution_count": 10,
   "id": "8c93487e",
   "metadata": {},
   "outputs": [
    {
     "name": "stdout",
     "output_type": "stream",
     "text": [
      "19.362999626583637 26.922714659130648\n"
     ]
    }
   ],
   "source": [
    "lst = [11,12,12.5,13,13,15.5,16,17,22,23,25,26,27,28,29,30,32,33,33,34,34]\n",
    "\n",
    "lower, upper = stats.t.interval(confidence= 0.95,df = len(lst)-1, loc = np.mean(lst), scale=stats.sem(lst))\n",
    "print(lower, upper)"
   ]
  },
  {
   "cell_type": "code",
   "execution_count": null,
   "id": "18b04fbd",
   "metadata": {},
   "outputs": [],
   "source": [
    "lst = [11,12,12.5,13,13,15.5,16,17,22,23,25,26,27,28,29,30,32,33,33,34,34]\n",
    "\n",
    "x_ngang = np.mean(lst)\n",
    "tong = [(x - x_ngang)**2 for x in lst]\n",
    "s2 = (1/len(lst)-1) / np.sum(tong)\n",
    "s = math.sqrt(s2)\n",
    "\n",
    "lower , upper = stats.t.interval(confidence= 0.95,df = len(lst)-1, loc = x_ngang, scale=stats.sem(lst))"
   ]
  }
 ],
 "metadata": {
  "kernelspec": {
   "display_name": "Python 3",
   "language": "python",
   "name": "python3"
  },
  "language_info": {
   "codemirror_mode": {
    "name": "ipython",
    "version": 3
   },
   "file_extension": ".py",
   "mimetype": "text/x-python",
   "name": "python",
   "nbconvert_exporter": "python",
   "pygments_lexer": "ipython3",
   "version": "3.13.5"
  }
 },
 "nbformat": 4,
 "nbformat_minor": 5
}
