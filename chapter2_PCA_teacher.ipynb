{
 "cells": [
  {
   "cell_type": "code",
   "execution_count": null,
   "id": "7b6c3bd9",
   "metadata": {},
   "outputs": [],
   "source": [
    "import pandas as pd"
   ]
  },
  {
   "cell_type": "code",
   "execution_count": null,
   "id": "69feea18",
   "metadata": {},
   "outputs": [],
   "source": []
  },
  {
   "cell_type": "code",
   "execution_count": null,
   "id": "b7d0f9a0",
   "metadata": {},
   "outputs": [],
   "source": [
    "df[['height', 'weight']]."
   ]
  },
  {
   "cell_type": "code",
   "execution_count": null,
   "id": "80d17f2a",
   "metadata": {},
   "outputs": [],
   "source": [
    "df[\"heiht_center\"] = [x-mean_height for x in df.height]\n"
   ]
  }
 ],
 "metadata": {
  "language_info": {
   "name": "python"
  }
 },
 "nbformat": 4,
 "nbformat_minor": 5
}
